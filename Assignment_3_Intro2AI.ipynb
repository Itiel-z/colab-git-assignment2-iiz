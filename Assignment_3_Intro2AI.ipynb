{
  "nbformat": 4,
  "nbformat_minor": 0,
  "metadata": {
    "colab": {
      "provenance": [],
      "authorship_tag": "ABX9TyMsXOgXRvdMGOVoeAfPB/Ye",
      "include_colab_link": true
    },
    "kernelspec": {
      "name": "python3",
      "display_name": "Python 3"
    },
    "language_info": {
      "name": "python"
    }
  },
  "cells": [
    {
      "cell_type": "markdown",
      "metadata": {
        "id": "view-in-github",
        "colab_type": "text"
      },
      "source": [
        "<a href=\"https://colab.research.google.com/github/Itiel-z/colab-git-assignment2-iiz/blob/main/Assignment_3_Intro2AI.ipynb\" target=\"_parent\"><img src=\"https://colab.research.google.com/assets/colab-badge.svg\" alt=\"Open In Colab\"/></a>"
      ]
    },
    {
      "cell_type": "markdown",
      "source": [
        "Assignment 3 - Itiel"
      ],
      "metadata": {
        "id": "33GdG8sU-AfW"
      }
    },
    {
      "cell_type": "markdown",
      "source": [
        "#### **ATTENTION!!!**\n",
        "- **Place each section (1,2...) in one or more cells to keep the notebook organised**\n",
        "- **Complete the codes in the `TODO` sections**"
      ],
      "metadata": {
        "id": "jxgcP_Y1-UTq"
      }
    },
    {
      "cell_type": "markdown",
      "source": [
        "# Python Library Management System\n",
        "\n",
        "# Install required libraries (This should already exist in colab)"
      ],
      "metadata": {
        "id": "xRJP0zeR-iR3"
      }
    },
    {
      "cell_type": "code",
      "execution_count": 1,
      "metadata": {
        "colab": {
          "base_uri": "https://localhost:8080/"
        },
        "id": "_mK9JVyX9-Jz",
        "outputId": "e4816ed8-8d88-4cc6-ce3e-00ffe62c717d"
      },
      "outputs": [
        {
          "output_type": "stream",
          "name": "stdout",
          "text": [
            "Requirement already satisfied: requests in /usr/local/lib/python3.11/dist-packages (2.32.3)\n",
            "Requirement already satisfied: charset-normalizer<4,>=2 in /usr/local/lib/python3.11/dist-packages (from requests) (3.4.2)\n",
            "Requirement already satisfied: idna<4,>=2.5 in /usr/local/lib/python3.11/dist-packages (from requests) (3.10)\n",
            "Requirement already satisfied: urllib3<3,>=1.21.1 in /usr/local/lib/python3.11/dist-packages (from requests) (2.4.0)\n",
            "Requirement already satisfied: certifi>=2017.4.17 in /usr/local/lib/python3.11/dist-packages (from requests) (2025.4.26)\n"
          ]
        }
      ],
      "source": [
        "!pip install requests"
      ]
    },
    {
      "cell_type": "code",
      "source": [
        "import pickle\n",
        "import sqlite3\n",
        "import requests"
      ],
      "metadata": {
        "id": "lQyVp4k_-w7S"
      },
      "execution_count": 2,
      "outputs": []
    },
    {
      "cell_type": "markdown",
      "source": [
        "# 1. Data Types and Variables"
      ],
      "metadata": {
        "id": "YF9gL4wX-4Iw"
      }
    },
    {
      "cell_type": "code",
      "source": [
        "book_title = \"Python Programming\"\n",
        "book_quantity = 5\n",
        "book_price = 29.99\n",
        "is_available = True\n",
        "\n",
        "print(f\"Book: {book_title}, Quantity: {book_quantity}, Price: ${book_price}, Available: {is_available}\")"
      ],
      "metadata": {
        "colab": {
          "base_uri": "https://localhost:8080/"
        },
        "id": "u-MwEBdT-8Qd",
        "outputId": "5a8a7553-e586-456e-88b9-f776a66cc74a"
      },
      "execution_count": 3,
      "outputs": [
        {
          "output_type": "stream",
          "name": "stdout",
          "text": [
            "Book: Python Programming, Quantity: 5, Price: $29.99, Available: True\n"
          ]
        }
      ]
    },
    {
      "cell_type": "markdown",
      "source": [
        "# 2. Lists"
      ],
      "metadata": {
        "id": "1dNDnJ9B_JD1"
      }
    },
    {
      "cell_type": "code",
      "source": [
        "books = [\"Python Basics\", \"Advanced Python\", \"Data Science with Python\"]\n",
        "\n",
        "# TODO: Add two more books to the list\n",
        "books.append('Introduction to Python') # adds the book at the end of the list\n",
        "books.insert(1, 'Python for beginners') # adds the book at index 1\n",
        "\n",
        "print(\"Updated book list:\", books)"
      ],
      "metadata": {
        "colab": {
          "base_uri": "https://localhost:8080/"
        },
        "id": "NvP-QCwd_IoV",
        "outputId": "46329351-a339-4e77-b13c-d795aefec4c5"
      },
      "execution_count": 4,
      "outputs": [
        {
          "output_type": "stream",
          "name": "stdout",
          "text": [
            "Updated book list: ['Python Basics', 'Python for beginners', 'Advanced Python', 'Data Science with Python', 'Introduction to Python']\n"
          ]
        }
      ]
    },
    {
      "cell_type": "markdown",
      "source": [
        "# 3. Loops and range()"
      ],
      "metadata": {
        "id": "ZCWz2QYeApKx"
      }
    },
    {
      "cell_type": "code",
      "source": [
        "print(\"\\nAvailable books:\")\n",
        "# TODO: Use a for loop and range() to print books with their indices\n",
        "for z in range(len(books)):\n",
        "  print(f'{z}: {books[z]}')"
      ],
      "metadata": {
        "colab": {
          "base_uri": "https://localhost:8080/"
        },
        "id": "S9BS_kfnA9Tl",
        "outputId": "65dc6970-2587-4386-c14e-a3a523e9bbe3"
      },
      "execution_count": 5,
      "outputs": [
        {
          "output_type": "stream",
          "name": "stdout",
          "text": [
            "\n",
            "Available books:\n",
            "0: Python Basics\n",
            "1: Python for beginners\n",
            "2: Advanced Python\n",
            "3: Data Science with Python\n",
            "4: Introduction to Python\n"
          ]
        }
      ]
    },
    {
      "cell_type": "markdown",
      "source": [
        "# 4. User Input"
      ],
      "metadata": {
        "id": "4tbPqZzyCb4p"
      }
    },
    {
      "cell_type": "code",
      "source": [
        "new_book = input(\"Enter a new book title: \")\n",
        "books.append(new_book)\n",
        "print(\"Updated book list:\", books)"
      ],
      "metadata": {
        "colab": {
          "base_uri": "https://localhost:8080/"
        },
        "id": "czdNBwlICm5j",
        "outputId": "f4f62e20-4c0b-46c6-d992-9889922aa63f"
      },
      "execution_count": 6,
      "outputs": [
        {
          "output_type": "stream",
          "name": "stdout",
          "text": [
            "Enter a new book title: Falling for Python\n",
            "Updated book list: ['Python Basics', 'Python for beginners', 'Advanced Python', 'Data Science with Python', 'Introduction to Python', 'Falling for Python']\n"
          ]
        }
      ]
    },
    {
      "cell_type": "markdown",
      "source": [
        "# 5. Functions and conditional statements"
      ],
      "metadata": {
        "id": "m_6U-clcC89c"
      }
    },
    {
      "cell_type": "code",
      "source": [
        "def check_availability(book_name):\n",
        "    # TODO: Check if the book is in the list and return True if available, False otherwise\n",
        "    if book_name in books:\n",
        "        return True\n",
        "    else:\n",
        "        return False\n",
        "    pass\n"
      ],
      "metadata": {
        "id": "rihjIjgFHels"
      },
      "execution_count": 7,
      "outputs": []
    },
    {
      "cell_type": "markdown",
      "source": [
        "# Test the function"
      ],
      "metadata": {
        "id": "mq9MaVj8IyZ0"
      }
    },
    {
      "cell_type": "code",
      "source": [
        "print(f\"Is 'Python Basics' available? {check_availability('Python Basics')}\")"
      ],
      "metadata": {
        "colab": {
          "base_uri": "https://localhost:8080/"
        },
        "id": "DCU-mzAiI_IL",
        "outputId": "19b23fdc-ed94-477f-c4bf-44f2b680526b"
      },
      "execution_count": 10,
      "outputs": [
        {
          "output_type": "stream",
          "name": "stdout",
          "text": [
            "Is 'Python Basics' available? True\n"
          ]
        }
      ]
    },
    {
      "cell_type": "code",
      "source": [
        "print(f\"Is 'Python Basics' available? {check_availability('Python my passion')}\")"
      ],
      "metadata": {
        "colab": {
          "base_uri": "https://localhost:8080/"
        },
        "id": "gTbwNZF_IgHd",
        "outputId": "25d92ba1-21f6-4ead-f18c-9add854ec406"
      },
      "execution_count": 12,
      "outputs": [
        {
          "output_type": "stream",
          "name": "stdout",
          "text": [
            "Is 'Python Basics' available? False\n"
          ]
        }
      ]
    },
    {
      "cell_type": "markdown",
      "source": [
        "# 6. File I/O"
      ],
      "metadata": {
        "id": "uffS0xYnJyib"
      }
    },
    {
      "cell_type": "code",
      "source": [
        "def save_books_to_file(filename):\n",
        "    with open(filename, 'w') as f:\n",
        "        for book in books:\n",
        "            f.write(f\"{book}\\n\")\n",
        "\n",
        "# TODO: Implement a function to read books from a file\n",
        "def read_books_from_file(filename):\n",
        "    with open(filename, 'r') as f:\n",
        "        book_list = [line.strip() for line in f]\n",
        "    return book_list"
      ],
      "metadata": {
        "id": "KUTErhI9JzjY"
      },
      "execution_count": 13,
      "outputs": []
    },
    {
      "cell_type": "markdown",
      "source": [
        "# Test file I/O"
      ],
      "metadata": {
        "id": "g5hdLa37K4kq"
      }
    },
    {
      "cell_type": "code",
      "source": [
        "save_books_to_file(\"books.txt\")\n",
        "!cat books.txt  # Display file contents in Colab"
      ],
      "metadata": {
        "colab": {
          "base_uri": "https://localhost:8080/"
        },
        "id": "Cfax7R94K__i",
        "outputId": "881e540f-fe11-4184-f01b-0691d86797c1"
      },
      "execution_count": 14,
      "outputs": [
        {
          "output_type": "stream",
          "name": "stdout",
          "text": [
            "Python Basics\n",
            "Python for beginners\n",
            "Advanced Python\n",
            "Data Science with Python\n",
            "Introduction to Python\n",
            "Falling for Python\n"
          ]
        }
      ]
    },
    {
      "cell_type": "markdown",
      "source": [
        "# 7. Pickle for serialization"
      ],
      "metadata": {
        "id": "gioWhgYCLYu4"
      }
    },
    {
      "cell_type": "code",
      "source": [
        "def save_books_pickle(filename):\n",
        "    with open(filename, 'wb') as f:\n",
        "        pickle.dump(books, f)\n",
        "\n",
        "# TODO: Implement a function to load books using pickle\n",
        "def load_books_pickle(filename):\n",
        "    with open(filename, 'rb') as f:\n",
        "        book_list = pickle.load(f)\n",
        "    return book_list"
      ],
      "metadata": {
        "id": "d16aBoJ_LZ1j"
      },
      "execution_count": 15,
      "outputs": []
    },
    {
      "cell_type": "markdown",
      "source": [
        "# Test pickle functions"
      ],
      "metadata": {
        "id": "jrt1p2yhTAXs"
      }
    },
    {
      "cell_type": "code",
      "source": [
        "save_books_pickle(\"books.pkl\")\n",
        "print(\"Books loaded from pickle:\", load_books_pickle(\"books.pkl\"))"
      ],
      "metadata": {
        "colab": {
          "base_uri": "https://localhost:8080/"
        },
        "id": "zYYys2xjR0_5",
        "outputId": "fe465a07-f266-40f6-89f1-19ae8fc873c4"
      },
      "execution_count": 17,
      "outputs": [
        {
          "output_type": "stream",
          "name": "stdout",
          "text": [
            "Books loaded from pickle: ['Python Basics', 'Python for beginners', 'Advanced Python', 'Data Science with Python', 'Introduction to Python', 'Falling for Python']\n"
          ]
        }
      ]
    },
    {
      "cell_type": "markdown",
      "source": [
        "# 8. SQLite Database Interaction"
      ],
      "metadata": {
        "id": "xHJc-gZETdj-"
      }
    },
    {
      "cell_type": "code",
      "source": [
        "def create_books_table():\n",
        "    conn = sqlite3.connect('library.db')\n",
        "    cursor = conn.cursor()\n",
        "    cursor.execute('''CREATE TABLE IF NOT EXISTS books\n",
        "                      (id INTEGER PRIMARY KEY, title TEXT, quantity INTEGER)''')\n",
        "    conn.commit()\n",
        "    conn.close()"
      ],
      "metadata": {
        "id": "WafxEEB5Teak"
      },
      "execution_count": 18,
      "outputs": []
    },
    {
      "cell_type": "code",
      "source": [
        "# TODO: Implement a function to add a book to the SQLite database\n",
        "def add_book_to_db(title, quantity):\n",
        "    conn = sqlite3.connect('library.db')\n",
        "    cursor = conn.cursor()\n",
        "    cursor.execute(\"INSERT INTO books (title, quantity) VALUES (?, ?)\", (title, quantity))\n",
        "    conn.commit()\n",
        "    conn.close()"
      ],
      "metadata": {
        "id": "8kr7ImuZTqea"
      },
      "execution_count": 19,
      "outputs": []
    },
    {
      "cell_type": "markdown",
      "source": [
        "# Test database functions"
      ],
      "metadata": {
        "id": "hurePKb1VFQl"
      }
    },
    {
      "cell_type": "code",
      "source": [
        "create_books_table()\n",
        "add_book_to_db(\"Python for Beginners\", 10)"
      ],
      "metadata": {
        "id": "JUXvK14sVHR1"
      },
      "execution_count": 20,
      "outputs": []
    },
    {
      "cell_type": "markdown",
      "source": [
        "# Retrive list of books in the database"
      ],
      "metadata": {
        "id": "z71okWXXV4y7"
      }
    },
    {
      "cell_type": "code",
      "source": [
        "def list_books_from_db():\n",
        "    conn = sqlite3.connect('library.db')\n",
        "    cursor = conn.cursor()\n",
        "    cursor.execute(\"SELECT id, title, quantity FROM books\")\n",
        "    rows = cursor.fetchall()\n",
        "    conn.close()\n",
        "\n",
        "    if not rows:\n",
        "        print(\"No books found in the database.\")\n",
        "    else:\n",
        "        print(\"Books in database:\")\n",
        "        for row in rows:\n",
        "            print(f\"ID: {row[0]}, Title: {row[1]}, Quantity: {row[2]}\")\n"
      ],
      "metadata": {
        "id": "sXPq_nIbV3US"
      },
      "execution_count": 21,
      "outputs": []
    },
    {
      "cell_type": "code",
      "source": [
        "list_books_from_db()"
      ],
      "metadata": {
        "colab": {
          "base_uri": "https://localhost:8080/"
        },
        "id": "ZeXhJHWjWNdi",
        "outputId": "7661a750-0201-40ce-be09-680c4c7947eb"
      },
      "execution_count": 22,
      "outputs": [
        {
          "output_type": "stream",
          "name": "stdout",
          "text": [
            "Books in database:\n",
            "ID: 1, Title: Python for Beginners, Quantity: 10\n"
          ]
        }
      ]
    },
    {
      "cell_type": "markdown",
      "source": [
        "# 9. Web API Interaction (GitHub API)\n"
      ],
      "metadata": {
        "id": "aA76xmNLWkpv"
      }
    },
    {
      "cell_type": "code",
      "source": [
        "def get_python_repos():\n",
        "    url = \"https://api.github.com/search/repositories\"\n",
        "    params = {\"q\": \"language:python\", \"sort\": \"stars\", \"order\": \"desc\"}\n",
        "    response = requests.get(url, params=params)\n",
        "    data = response.json()\n",
        "    return [repo['name'] for repo in data['items'][:5]]"
      ],
      "metadata": {
        "id": "-aKtJ3Y2WuIi"
      },
      "execution_count": 23,
      "outputs": []
    },
    {
      "cell_type": "markdown",
      "source": [
        "# Test API function"
      ],
      "metadata": {
        "id": "5vO_TNz4W4fW"
      }
    },
    {
      "cell_type": "code",
      "source": [
        "print(\"Top 5 Python repositories on GitHub:\", get_python_repos())\n",
        "\n",
        "print(\"\\nLibrary Management System operations completed.\")"
      ],
      "metadata": {
        "colab": {
          "base_uri": "https://localhost:8080/"
        },
        "id": "ob1xJVRBW_bR",
        "outputId": "4da6d089-0c44-42ff-ee4f-4836f46f756b"
      },
      "execution_count": 24,
      "outputs": [
        {
          "output_type": "stream",
          "name": "stdout",
          "text": [
            "Top 5 Python repositories on GitHub: ['free-programming-books', 'public-apis', 'system-design-primer', 'awesome-python', 'Python']\n",
            "\n",
            "Library Management System operations completed.\n"
          ]
        }
      ]
    }
  ]
}