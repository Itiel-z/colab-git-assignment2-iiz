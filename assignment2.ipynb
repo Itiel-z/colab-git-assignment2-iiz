{
  "nbformat": 4,
  "nbformat_minor": 0,
  "metadata": {
    "colab": {
      "provenance": []
    },
    "kernelspec": {
      "name": "python3",
      "display_name": "Python 3"
    },
    "language_info": {
      "name": "python"
    }
  },
  "cells": [
    {
      "cell_type": "markdown",
      "source": [
        "# Git and GitHub Assignment 2\n",
        "This notebook demonstrates basic Git operations."
      ],
      "metadata": {
        "id": "CSTRodpvZwEs"
      }
    },
    {
      "cell_type": "code",
      "execution_count": 1,
      "metadata": {
        "colab": {
          "base_uri": "https://localhost:8080/"
        },
        "id": "AP8uWYSIXJoP",
        "outputId": "d04f8170-d941-4aa2-a2b3-8274f2b9acf8"
      },
      "outputs": [
        {
          "output_type": "stream",
          "name": "stdout",
          "text": [
            "12\n"
          ]
        }
      ],
      "source": [
        "def multiply_numbers(a, b):\n",
        "    return a * b\n",
        "print(multiply_numbers(3, 4))"
      ]
    }
  ]
}